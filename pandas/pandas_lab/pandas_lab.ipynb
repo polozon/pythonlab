{
 "cells": [
  {
   "cell_type": "markdown",
   "metadata": {},
   "source": [
    "# Reading a CSV file\n",
    "\n",
    "The first four rows are skipped since they contain some header data, not part of the CSV."
   ]
  },
  {
   "cell_type": "code",
   "execution_count": 4,
   "metadata": {},
   "outputs": [
    {
     "name": "stdout",
     "output_type": "stream",
     "text": [
      "     Bus      No          Time   State  ID (hex)  DLC  \\\n",
      "0  CAN-1  14,486  00:06:29.075    E        F10F1    2   \n",
      "1  CAN-2  14,487  00:06:29.525    E       10F110    8   \n",
      "2  CAN-2  14,488  00:06:29.526    E       10F110    8   \n",
      "3  CAN-1  14,489  00:06:31.236    E        F10F1    2   \n",
      "4  CAN-2  14,490  00:06:31.236    E        FF110    8   \n",
      "\n",
      "                Data (hex)     ASCII  \n",
      "0                    20 10         .  \n",
      "1  00 01 02 00 00 00 00 02  ........  \n",
      "2  00 01 00 05 00 00 03 02  ........  \n",
      "3                    20 11         .  \n",
      "4  20 11 81 02 10 2E 30 66   .....0f  \n"
     ]
    }
   ],
   "source": [
    "import pandas as pd\n",
    "\n",
    "filename = '../example_data/ixxat_mini.csv'\n",
    "\n",
    "df = pd.read_csv(filename, skiprows=4, delimiter=',')\n",
    "print(df.head())\n",
    "# Save it to a picle file\n",
    "df.to_pickle('ixxat_mini.pkl')"
   ]
  },
  {
   "cell_type": "markdown",
   "metadata": {},
   "source": [
    "Printing the column and checking the data types, the column \"DLC\" has been converted to int. icol selects the first row with index 0."
   ]
  },
  {
   "cell_type": "code",
   "execution_count": 22,
   "metadata": {},
   "outputs": [
    {
     "name": "stdout",
     "output_type": "stream",
     "text": [
      "['Bus', 'No', 'Time', 'State', 'ID (hex)', 'DLC', 'Data (hex)', 'ASCII']\n",
      "Datatype Bus <class 'str'>\n",
      "Datatype No <class 'str'>\n",
      "Datatype Time <class 'str'>\n",
      "Datatype State <class 'str'>\n",
      "Datatype ID (hex) <class 'str'>\n",
      "Datatype DLC <class 'numpy.int64'>\n",
      "Datatype Data (hex) <class 'str'>\n",
      "Datatype ASCII <class 'str'>\n"
     ]
    }
   ],
   "source": [
    "cols = df.columns.values.tolist()\n",
    "print(cols)\n",
    "for col in cols:\n",
    "    print(\"Datatype\", col, type(df[col].iloc[0]))"
   ]
  },
  {
   "cell_type": "markdown",
   "metadata": {},
   "source": [
    "Using two alternative solutions for selecting all rows where DLC column is 2. In solution 1: `df['DLC'] == 2` creates a bool series, just as `b`. loc on that list gives the full rows."
   ]
  },
  {
   "cell_type": "code",
   "execution_count": 7,
   "metadata": {},
   "outputs": [
    {
     "name": "stdout",
     "output_type": "stream",
     "text": [
      "Solution 1: a=\n",
      "      Bus      No          Time   State  ID (hex)  DLC Data (hex) ASCII\n",
      "0  CAN-1  14,486  00:06:29.075    E        F10F1    2      20 10     .\n",
      "3  CAN-1  14,489  00:06:31.236    E        F10F1    2      20 11     .\n",
      "8  CAN-1  14,494  00:06:35.114    E        F10F1    2      20 12     .\n",
      "Solution 2: b=\n",
      " 0     True\n",
      "1    False\n",
      "2    False\n",
      "3     True\n",
      "4    False\n",
      "Name: DLC, dtype: bool\n"
     ]
    }
   ],
   "source": [
    "a = df.loc[df['DLC'] == 2]\n",
    "b = df['DLC'].apply(lambda x: x == 2)\n",
    "print('Solution 1: a=\\n', a.head())\n",
    "print('Solution 2: b=\\n',b.head())"
   ]
  }
 ],
 "metadata": {
  "kernelspec": {
   "display_name": "env",
   "language": "python",
   "name": "python3"
  },
  "language_info": {
   "codemirror_mode": {
    "name": "ipython",
    "version": 3
   },
   "file_extension": ".py",
   "mimetype": "text/x-python",
   "name": "python",
   "nbconvert_exporter": "python",
   "pygments_lexer": "ipython3",
   "version": "3.9.7"
  }
 },
 "nbformat": 4,
 "nbformat_minor": 2
}
